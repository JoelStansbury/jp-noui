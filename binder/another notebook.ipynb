{
 "cells": [
  {
   "cell_type": "markdown",
   "id": "1944a3c0-fdc5-4862-9ece-0303ac49708a",
   "metadata": {},
   "source": [
    "`noui` keeps track of which notebooks have been run so that notebooks are only run once."
   ]
  },
  {
   "cell_type": "markdown",
   "id": "62682baf-e9dc-4b96-84ad-7e6b30bb66b1",
   "metadata": {},
   "source": [
    "Go back to [default.ipynb](default.ipynb)"
   ]
  },
  {
   "cell_type": "code",
   "execution_count": null,
   "id": "d8e5276d-b53e-49df-8fff-c0c8cbe28811",
   "metadata": {},
   "outputs": [],
   "source": [
    "print(\"hello\")"
   ]
  }
 ],
 "metadata": {
  "kernelspec": {
   "display_name": "Python 3 (ipykernel)",
   "language": "python",
   "name": "python3"
  },
  "language_info": {
   "codemirror_mode": {
    "name": "ipython",
    "version": 3
   },
   "file_extension": ".py",
   "mimetype": "text/x-python",
   "name": "python",
   "nbconvert_exporter": "python",
   "pygments_lexer": "ipython3",
   "version": "3.11.0"
  }
 },
 "nbformat": 4,
 "nbformat_minor": 5
}
