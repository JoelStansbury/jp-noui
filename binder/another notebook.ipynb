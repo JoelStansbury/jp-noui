{
 "cells": [
  {
   "cell_type": "code",
   "execution_count": null,
   "id": "c2278862-5005-4bb4-a9d9-12d1e77c6e0a",
   "metadata": {},
   "outputs": [],
   "source": [
    "import ipywidgets as w"
   ]
  },
  {
   "cell_type": "markdown",
   "id": "77584fbe-f9c6-4d8c-b205-bdf16e239449",
   "metadata": {},
   "source": [
    "[default.ipynb](default.ipynb)"
   ]
  },
  {
   "cell_type": "code",
   "execution_count": null,
   "id": "d8e5276d-b53e-49df-8fff-c0c8cbe28811",
   "metadata": {},
   "outputs": [],
   "source": [
    "print(\"hello\")"
   ]
  }
 ],
 "metadata": {
  "kernelspec": {
   "display_name": "Python 3 (ipykernel)",
   "language": "python",
   "name": "python3"
  },
  "language_info": {
   "codemirror_mode": {
    "name": "ipython",
    "version": 3
   },
   "file_extension": ".py",
   "mimetype": "text/x-python",
   "name": "python",
   "nbconvert_exporter": "python",
   "pygments_lexer": "ipython3",
   "version": "3.11.0"
  }
 },
 "nbformat": 4,
 "nbformat_minor": 5
}
