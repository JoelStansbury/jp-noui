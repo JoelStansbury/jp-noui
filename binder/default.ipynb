{
 "cells": [
  {
   "cell_type": "markdown",
   "id": "a1979dcf-5d3e-4cd4-99b8-67d5003c3eb0",
   "metadata": {},
   "source": [
    "## Markdown Example\n",
    "Markdown is rendered as you would expect. However, code cells are hidden, so if you double-click this cell it will disappear."
   ]
  },
  {
   "cell_type": "markdown",
   "id": "37ce5830-5918-4eba-a37c-edc0b175861a",
   "metadata": {},
   "source": [
    "### Links\n",
    "goto [another notebook.ipynb](another%20notebook.ipynb)"
   ]
  },
  {
   "cell_type": "markdown",
   "id": "3c304b6d-6d39-4791-b6d7-d501168d1f5e",
   "metadata": {},
   "source": [
    "To exit the `noui` view, click on the `Exit to JupyterLab` button in the top-right corner"
   ]
  },
  {
   "cell_type": "code",
   "execution_count": null,
   "id": "c856c39a-2b46-4130-b3a4-523cd468af4e",
   "metadata": {},
   "outputs": [],
   "source": [
    "import ipywidgets as W\n",
    "W.IntSlider()"
   ]
  },
  {
   "cell_type": "code",
   "execution_count": null,
   "id": "de8d3374",
   "metadata": {},
   "outputs": [],
   "source": [
    "import matplotlib.pyplot as plt\n",
    "import numpy as np\n",
    "plt.plot(np.sin(np.arange(0, 2*np.pi, 0.1)))\n",
    "plt.show()"
   ]
  },
  {
   "cell_type": "code",
   "execution_count": null,
   "id": "aed92af7-1feb-42fc-a284-f6d0655905c4",
   "metadata": {},
   "outputs": [],
   "source": []
  }
 ],
 "metadata": {
  "kernelspec": {
   "display_name": "Python 3 (ipykernel)",
   "language": "python",
   "name": "python3"
  },
  "language_info": {
   "codemirror_mode": {
    "name": "ipython",
    "version": 3
   },
   "file_extension": ".py",
   "mimetype": "text/x-python",
   "name": "python",
   "nbconvert_exporter": "python",
   "pygments_lexer": "ipython3",
   "version": "3.11.0"
  }
 },
 "nbformat": 4,
 "nbformat_minor": 5
}
