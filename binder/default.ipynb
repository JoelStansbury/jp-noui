{
 "cells": [
  {
   "cell_type": "markdown",
   "id": "fd98c4c8-7fef-40fc-9b55-c8fac774de80",
   "metadata": {},
   "source": [
    "## Markdown Example\n",
    "goto [another notebook.ipynb](another%20notebook.ipynb)"
   ]
  },
  {
   "cell_type": "code",
   "execution_count": null,
   "id": "c856c39a-2b46-4130-b3a4-523cd468af4e",
   "metadata": {},
   "outputs": [],
   "source": [
    "import ipywidgets as W\n",
    "W.IntSlider()"
   ]
  },
  {
   "cell_type": "code",
   "execution_count": null,
   "id": "edde9f90-8a3a-464b-b106-4a12259c2b2b",
   "metadata": {},
   "outputs": [],
   "source": [
    "import time\n",
    "time.sleep(2)"
   ]
  },
  {
   "cell_type": "code",
   "execution_count": null,
   "id": "de8d3374",
   "metadata": {},
   "outputs": [],
   "source": [
    "import matplotlib.pyplot as plt\n",
    "import numpy as np\n",
    "plt.plot(np.sin(np.arange(0, 2*np.pi, 0.1)))\n",
    "plt.show()"
   ]
  },
  {
   "cell_type": "code",
   "execution_count": null,
   "id": "aed92af7-1feb-42fc-a284-f6d0655905c4",
   "metadata": {},
   "outputs": [],
   "source": []
  }
 ],
 "metadata": {
  "kernelspec": {
   "display_name": "Python 3 (ipykernel)",
   "language": "python",
   "name": "python3"
  },
  "language_info": {
   "codemirror_mode": {
    "name": "ipython",
    "version": 3
   },
   "file_extension": ".py",
   "mimetype": "text/x-python",
   "name": "python",
   "nbconvert_exporter": "python",
   "pygments_lexer": "ipython3",
   "version": "3.11.0"
  }
 },
 "nbformat": 4,
 "nbformat_minor": 5
}
